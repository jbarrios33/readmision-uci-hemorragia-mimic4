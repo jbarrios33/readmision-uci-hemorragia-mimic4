{
  "cells": [
    {
      "cell_type": "markdown",
      "metadata": {},
      "source": "# \ud83e\udde0 An\u00e1lisis de la Readmisi\u00f3n a la UCI en Pacientes con Hemorragia Intracerebral (MIMIC-IV)"
    },
    {
      "cell_type": "markdown",
      "metadata": {},
      "source": "## 1. \ud83d\udd27 Configuraci\u00f3n Inicial"
    },
    {
      "cell_type": "code",
      "metadata": {},
      "source": "from google.cloud import bigquery\nfrom google.colab import auth\n\n# Autenticaci\u00f3n\nauth.authenticate_user()\nproject_id = \"TU_PROYECTO\"\nclient = bigquery.Client(project=project_id)"
    },
    {
      "cell_type": "markdown",
      "metadata": {},
      "source": "## 2. \ud83d\udce6 Extracci\u00f3n de Datos"
    },
    {
      "cell_type": "code",
      "metadata": {},
      "source": "query = \"\"\"\nSELECT\n  a.subject_id,\n  a.hadm_id,\n  a.stay_id,\n  a.gender,\n  a.admittime,\n  a.dischtime,\n  i.icd_code,\n  d.icd_version,\n  d.long_title,\n  s.gcsverbal,\n  s.gcsmotor,\n  s.gcseyes,\n  vitals.heart_rate,\n  vitals.meanbp,\n  vitals.resprate,\n  vitals.tempc,\n  vitals.spo2,\n  readmit.stay_id AS readmitted_stay\nFROM\n  `physionet-data.mimic_icu.icustays` a\nJOIN\n  `physionet-data.mimic_hosp.diagnoses_icd` i\n  ON a.hadm_id = i.hadm_id\nJOIN\n  `physionet-data.mimic_hosp.d_icd_diagnoses` d\n  ON i.icd_code = d.icd_code\nLEFT JOIN\n  `physionet-data.mimic_icu.gcs` s\n  ON a.stay_id = s.stay_id\nLEFT JOIN\n  `physionet-data.mimic_derived.vitalsign` vitals\n  ON a.stay_id = vitals.stay_id\nLEFT JOIN (\n  SELECT subject_id, MIN(stay_id) AS stay_id\n  FROM `physionet-data.mimic_icu.icustays`\n  GROUP BY subject_id\n  HAVING COUNT(stay_id) > 1\n) readmit\n  ON a.subject_id = readmit.subject_id AND a.stay_id != readmit.stay_id\nWHERE\n  d.long_title LIKE '%intracerebral hemorrhage%'\n\"\"\"\ndf = client.query(query).to_dataframe()"
    },
    {
      "cell_type": "markdown",
      "metadata": {},
      "source": "## 3. \ud83e\uddfd Preprocesamiento"
    },
    {
      "cell_type": "code",
      "metadata": {},
      "source": "import pandas as pd\nfrom sklearn.preprocessing import StandardScaler\nfrom sklearn.model_selection import train_test_split\n\n# Relleno de valores nulos\ndf.fillna(df.median(numeric_only=True), inplace=True)\n\n# Escalado de caracter\u00edsticas num\u00e9ricas\nscaler = StandardScaler()\nfeatures_scaled = scaler.fit_transform(df.select_dtypes(include='number'))\n\n# Target: readmisi\u00f3n\ndf['readmitted'] = df['readmitted_stay'].notnull().astype(int)"
    },
    {
      "cell_type": "markdown",
      "metadata": {},
      "source": "## 4. \ud83d\udcca Modelado Predictivo"
    },
    {
      "cell_type": "code",
      "metadata": {},
      "source": "from sklearn.ensemble import RandomForestClassifier\nfrom sklearn.metrics import classification_report, roc_auc_score\n\nX = features_scaled\ny = df['readmitted']\n\nX_train, X_test, y_train, y_test = train_test_split(X, y, stratify=y)\n\nmodel = RandomForestClassifier(n_estimators=100)\nmodel.fit(X_train, y_train)\n\ny_pred = model.predict(X_test)\ny_proba = model.predict_proba(X_test)[:,1]\n\nprint(classification_report(y_test, y_pred))\nprint(\"AUC:\", roc_auc_score(y_test, y_proba))"
    },
    {
      "cell_type": "markdown",
      "metadata": {},
      "source": "## 5. \ud83d\udcc8 Visualizaci\u00f3n de Resultados"
    },
    {
      "cell_type": "code",
      "metadata": {},
      "source": "import matplotlib.pyplot as plt\nfrom sklearn.metrics import roc_curve\n\nfpr, tpr, _ = roc_curve(y_test, y_proba)\nplt.plot(fpr, tpr)\nplt.xlabel(\"FPR\")\nplt.ylabel(\"TPR\")\nplt.title(\"Curva ROC\")\nplt.show()"
    },
    {
      "cell_type": "markdown",
      "metadata": {},
      "source": "## 6. \ud83d\ude80 Despliegue (Futuro)\nSe puede utilizar Hugging Face Spaces o Streamlit Cloud para desplegar un frontend que permita:\n- Cargar variables cl\u00ednicas\n- Obtener un score de riesgo\n- Visualizar el gr\u00e1fico ROC o una matriz de confusi\u00f3n"
    }
  ],
  "metadata": {
    "kernelspec": {
      "display_name": "Python 3",
      "language": "python",
      "name": "python3"
    },
    "language_info": {
      "name": "python",
      "version": "3.8"
    }
  },
  "nbformat": 4,
  "nbformat_minor": 2
}